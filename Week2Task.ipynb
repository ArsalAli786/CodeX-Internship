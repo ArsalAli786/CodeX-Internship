{
 "cells": [
  {
   "cell_type": "markdown",
   "metadata": {},
   "source": [
    "# Arsal Ali"
   ]
  },
  {
   "cell_type": "markdown",
   "metadata": {},
   "source": [
    "### 1. Write a Python program that includes three separate functions to:\n",
    "### a) Calculate the area of a trapezoid\n",
    "### b) Calculate the area of a parallelogram\n",
    "### c) Calculate the surface area and volume of a cylinder\n",
    "###  Each function should take the necessary arguments and if user select Area for trapezoid then It should be print."
   ]
  },
  {
   "cell_type": "code",
   "execution_count": 13,
   "metadata": {},
   "outputs": [
    {
     "name": "stdout",
     "output_type": "stream",
     "text": [
      "Select an option:\n",
      "1. Area of Trapezoid\n",
      "2. Area of Parallelogram\n",
      "3. Surface Area and Volume of Cylinder\n",
      "Parallelogram Area: 1530.00\n"
     ]
    }
   ],
   "source": [
    "import math\n",
    "\n",
    "def trapezoid_area(base1, base2, height):\n",
    "    \"\"\"Calculate the area of a trapezoid.\"\"\"\n",
    "    return 0.5 * (base1 + base2) * height\n",
    "\n",
    "def parallelogram_area(base, height):\n",
    "    \"\"\"Calculate the area of a parallelogram.\"\"\"\n",
    "    return base * height\n",
    "\n",
    "def cylinder_surface_volume(radius, height):\n",
    "    \"\"\"Calculate the surface area and volume of a cylinder.\"\"\"\n",
    "    surface_area = 2 * math.pi * radius * (radius + height)\n",
    "    volume = math.pi * radius**2 * height\n",
    "    return surface_area, volume\n",
    "\n",
    "print(\"Select an option:\")\n",
    "print(\"1. Area of Trapezoid\")\n",
    "print(\"2. Area of Parallelogram\")\n",
    "print(\"3. Surface Area and Volume of Cylinder\")\n",
    "\n",
    "choice = int(input(\"Enter your choice (1-3): \"))\n",
    "\n",
    "if choice == 1:\n",
    "    base1 = float(input(\"Enter base 1: \"))\n",
    "    base2 = float(input(\"Enter base 2: \"))\n",
    "    height = float(input(\"Enter height: \"))\n",
    "    print(f\"Trapezoid Area: {trapezoid_area(base1, base2, height):.2f}\")\n",
    "\n",
    "elif choice == 2:\n",
    "    base = float(input(\"Enter base: \"))\n",
    "    height = float(input(\"Enter height: \"))\n",
    "    print(f\"Parallelogram Area: {parallelogram_area(base, height):.2f}\")\n",
    "\n",
    "elif choice == 3:\n",
    "    radius = float(input(\"Enter radius: \"))\n",
    "    height = float(input(\"Enter height: \"))\n",
    "    surface_area, volume = cylinder_surface_volume(radius, height)\n",
    "    print(f\"Cylinder Surface Area: {surface_area:.2f}\")\n",
    "    print(f\"Cylinder Volume: {volume:.2f}\")\n",
    "\n",
    "else:\n",
    "    print(\"Invalid choice! Please select a valid option.\")"
   ]
  },
  {
   "cell_type": "markdown",
   "metadata": {},
   "source": [
    "### 2. Write a Python function to check if the last letter of user input string is a vowel or a consonant."
   ]
  },
  {
   "cell_type": "code",
   "execution_count": 14,
   "metadata": {},
   "outputs": [
    {
     "name": "stdout",
     "output_type": "stream",
     "text": [
      "The last letter is a consonant.\n"
     ]
    }
   ],
   "source": [
    "def check_last_letter(string):\n",
    "    \"\"\"Check if the last letter of the string is a vowel or a consonant.\"\"\"\n",
    "    vowels = \"aeiouAEIOU\"\n",
    "    \n",
    "    if not string:\n",
    "        return \"String is empty!\"\n",
    "    \n",
    "    last_letter = string.strip()[-1]\n",
    "    \n",
    "    if not last_letter.isalpha():\n",
    "        return \"Last character is not a letter!\"\n",
    "    \n",
    "    if last_letter in vowels:\n",
    "        return \"The last letter is a vowel.\"\n",
    "    else:\n",
    "        return \"The last letter is a consonant.\"\n",
    "\n",
    "user_string = input(\"Enter a string: \")\n",
    "print(check_last_letter(user_string))"
   ]
  },
  {
   "cell_type": "markdown",
   "metadata": {},
   "source": [
    "### 3. Write a program to make function employee() meeting following requirements:\n",
    "### Employee name and monthly salary will be passed to this function. This function will cut 2 percent tax from salary and display salary after tax with name of employee. If the salary is missing in the function call then assign default value 10,000 to salary."
   ]
  },
  {
   "cell_type": "code",
   "execution_count": 15,
   "metadata": {},
   "outputs": [
    {
     "name": "stdout",
     "output_type": "stream",
     "text": [
      "Employee: Arsal Ali, Salary after tax: 49000.00\n",
      "Employee: Mirza Jehlumi, Salary after tax: 9800.00\n"
     ]
    }
   ],
   "source": [
    "def employee(name, salary=10000):\n",
    "    \"\"\"Calculate and display salary after 2% tax deduction.\"\"\"\n",
    "    tax_rate = 0.02\n",
    "    salary_after_tax = salary - (salary * tax_rate)\n",
    "    print(f\"Employee: {name}, Salary after tax: {salary_after_tax:.2f}\")\n",
    "\n",
    "employee(\"Arsal Ali\", 50000)\n",
    "employee(\"Mirza Jehlumi\")"
   ]
  },
  {
   "cell_type": "markdown",
   "metadata": {},
   "source": [
    "### 4. Write a function that will take a number 'n' input by user and will return its factorial."
   ]
  },
  {
   "cell_type": "code",
   "execution_count": 16,
   "metadata": {},
   "outputs": [
    {
     "name": "stdout",
     "output_type": "stream",
     "text": [
      "Factorial of 69 is 171122452428141311372468338881272839092270544893520369393648040923257279754140647424000000000000000\n"
     ]
    }
   ],
   "source": [
    "def factorial(n):\n",
    "    \"\"\"Return the factorial of a number.\"\"\"\n",
    "    if n < 0:\n",
    "        return \"Factorial is not defined for negative numbers.\"\n",
    "    elif n == 0 or n == 1:\n",
    "        return 1\n",
    "    else:\n",
    "        result = 1\n",
    "        for i in range(2, n + 1):\n",
    "            result *= i\n",
    "        return result\n",
    "    \n",
    "num = int(input(\"Enter a number: \"))\n",
    "print(f\"Factorial of {num} is {factorial(num)}\")"
   ]
  },
  {
   "cell_type": "markdown",
   "metadata": {},
   "source": [
    "### 5. Write a Python function to multiply all the numbers in a list."
   ]
  },
  {
   "cell_type": "code",
   "execution_count": 17,
   "metadata": {},
   "outputs": [
    {
     "name": "stdout",
     "output_type": "stream",
     "text": [
      "Product of the list: 120\n"
     ]
    }
   ],
   "source": [
    "def multiply_list(numbers):\n",
    "    \"\"\"Return the product of all numbers in the list.\"\"\"\n",
    "    if not numbers:\n",
    "        return \"List is empty!\"\n",
    "    \n",
    "    result = 1\n",
    "    for num in numbers:\n",
    "        result *= num\n",
    "    return result\n",
    "\n",
    "num_list = [2, 3, 4, 5]\n",
    "print(f\"Product of the list: {multiply_list(num_list)}\")"
   ]
  },
  {
   "cell_type": "markdown",
   "metadata": {},
   "source": [
    "### 6. You have a list of daily temperatures recorded over a month. Write code to:\n",
    "### a) Calculate and print the average temperature for the month.\n",
    "### b) Find and print the highest and lowest temperatures.\n",
    "### c) Sort the temperatures in ascending order.\n",
    "### d) Remove the temperature record for a specific day\n",
    "### Given Temperature list in °C = [22, 24, 30, 35, 29, 22, 20, 19]"
   ]
  },
  {
   "cell_type": "code",
   "execution_count": 18,
   "metadata": {},
   "outputs": [
    {
     "name": "stdout",
     "output_type": "stream",
     "text": [
      "Average Temperature: 25.12°C\n",
      "Highest Temperature: 35°C\n",
      "Lowest Temperature: 19°C\n",
      "Sorted Temperatures: [19, 20, 22, 22, 24, 29, 30, 35]\n",
      "Temperature 20°C removed. Updated temperatures: [22, 24, 30, 35, 29, 22, 19]\n"
     ]
    }
   ],
   "source": [
    "temperatures = [22, 24, 30, 35, 29, 22, 20, 19]\n",
    "\n",
    "average_temp = sum(temperatures) / len(temperatures)\n",
    "print(f\"Average Temperature: {average_temp:.2f}°C\")\n",
    "\n",
    "max_temp = max(temperatures)\n",
    "min_temp = min(temperatures)\n",
    "print(f\"Highest Temperature: {max_temp}°C\")\n",
    "print(f\"Lowest Temperature: {min_temp}°C\")\n",
    "\n",
    "sorted_temps = sorted(temperatures)\n",
    "print(f\"Sorted Temperatures: {sorted_temps}\")\n",
    "\n",
    "day = int(input(\"Enter the index (0-based) of the day to remove: \"))  \n",
    "if 0 <= day < len(temperatures):\n",
    "    removed_temp = temperatures.pop(day)\n",
    "    print(f\"Temperature {removed_temp}°C removed. Updated temperatures: {temperatures}\")\n",
    "else:\n",
    "    print(\"Invalid index! Please enter a valid day index.\")"
   ]
  },
  {
   "cell_type": "markdown",
   "metadata": {},
   "source": [
    "### 7. Write a python program that takes any two lists from user having same number of elements. Make a dictionary from these two lists in such a way that first element of first list will be key and first element of second list will be its associated value and so on and print the result.\n",
    "### Do not use any library. Make logic yourself."
   ]
  },
  {
   "cell_type": "code",
   "execution_count": 22,
   "metadata": {},
   "outputs": [
    {
     "name": "stdout",
     "output_type": "stream",
     "text": [
      "Generated Dictionary: {'1': 'a', '2': 'b', '3': 'c'}\n"
     ]
    }
   ],
   "source": [
    "def lists_to_dict(keys, values):\n",
    "    \"\"\"Convert two lists into a dictionary where elements from the first list are keys and elements from the second list are values.\"\"\"\n",
    "    if len(keys) != len(values):\n",
    "        return \"Error: Both lists must have the same number of elements.\"\n",
    "    \n",
    "    result_dict = {}\n",
    "    for i in range(len(keys)):\n",
    "        result_dict[keys[i]] = values[i]\n",
    "    \n",
    "    return result_dict\n",
    "\n",
    "list1 = input(\"Enter elements of first list separated by spaces: \").split()\n",
    "list2 = input(\"Enter elements of second list separated by spaces: \").split()\n",
    "\n",
    "dictionary = lists_to_dict(list1, list2)\n",
    "\n",
    "print(\"Generated Dictionary:\", dictionary)"
   ]
  },
  {
   "cell_type": "markdown",
   "metadata": {},
   "source": [
    "### 8. Write a function named Capital_Convertor() that get the name from user and return the name is in Capital/Block Letters."
   ]
  },
  {
   "cell_type": "code",
   "execution_count": 20,
   "metadata": {},
   "outputs": [
    {
     "name": "stdout",
     "output_type": "stream",
     "text": [
      "Name in capital letters: ARSAL ALI\n"
     ]
    }
   ],
   "source": [
    "def Capital_Convertor(name):\n",
    "    \"\"\"Convert the given name to capital (block) letters.\"\"\"\n",
    "    return name.upper()\n",
    "\n",
    "user_name = input(\"Enter your name: \")\n",
    "print(f\"Name in capital letters: {Capital_Convertor(user_name)}\")"
   ]
  },
  {
   "cell_type": "markdown",
   "metadata": {},
   "source": [
    "### 9. Why do we use functions in Python? Explain at least three advantages of using functions in programming with examples. (Not required coding, theory question)"
   ]
  },
  {
   "cell_type": "markdown",
   "metadata": {},
   "source": [
    "Functions in Python help break code into smaller, reusable blocks, making programs more efficient and organized. They promote **code reusability**, allowing us to write a piece of logic once and use it multiple times, reducing redundancy. They also enhance **readability and maintainability** by structuring code into manageable sections, making it easier to understand and modify. Additionally, functions simplify **debugging and testing**, as isolating errors in specific functions makes fixing issues more straightforward without affecting the entire program. Overall, functions improve efficiency, modularity, and scalability in programming."
   ]
  },
  {
   "cell_type": "markdown",
   "metadata": {},
   "source": [
    "### 10. An online shopping platform wants to calculate the total bill for a customer, including a discount. The discount is applied based on the total purchase amount.\n",
    "### a) If the total amount is above $500, a 10% discount is applied.\n",
    "### b) If the total amount is above $1000, a 20% discount is applied.\n",
    "### Write a Python function that takes the total purchase amount as an argument and returns the final bill after applying the discount. Explain why using a function makes the code more efficient."
   ]
  },
  {
   "cell_type": "code",
   "execution_count": 21,
   "metadata": {},
   "outputs": [
    {
     "name": "stdout",
     "output_type": "stream",
     "text": [
      "Final bill after discount: 55536.00\n"
     ]
    }
   ],
   "source": [
    "def calculate_bill(total_amount):\n",
    "    \"\"\"Calculate the final bill after applying the discount based on total purchase amount.\"\"\"\n",
    "    if total_amount > 1000:\n",
    "        discount = 0.20\n",
    "    elif total_amount > 500:\n",
    "        discount = 0.10\n",
    "    else:\n",
    "        discount = 0\n",
    "    \n",
    "    final_bill = total_amount - (total_amount * discount)\n",
    "    return final_bill\n",
    "\n",
    "total = float(input(\"Enter total purchase amount: \"))\n",
    "print(f\"Final bill after discount: {calculate_bill(total):.2f}\")"
   ]
  }
 ],
 "metadata": {
  "kernelspec": {
   "display_name": "Python 3",
   "language": "python",
   "name": "python3"
  },
  "language_info": {
   "codemirror_mode": {
    "name": "ipython",
    "version": 3
   },
   "file_extension": ".py",
   "mimetype": "text/x-python",
   "name": "python",
   "nbconvert_exporter": "python",
   "pygments_lexer": "ipython3",
   "version": "3.9.13"
  }
 },
 "nbformat": 4,
 "nbformat_minor": 2
}
