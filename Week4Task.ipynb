{
 "cells": [
  {
   "cell_type": "markdown",
   "metadata": {},
   "source": [
    "# Arsal Ali"
   ]
  },
  {
   "cell_type": "markdown",
   "metadata": {},
   "source": [
    "1. Create a Bus child class that inherits from the Vehicle class. The default\n",
    "fare charge of any vehicle is seating capacity * 100. If Vehicle is Bus\n",
    "instance, we need to add an extra 10% on full fare as a maintenance\n",
    "charge. So total fare for bus instance will become the final amount =\n",
    "total fare + 10% of the total fare."
   ]
  },
  {
   "cell_type": "code",
   "execution_count": 1,
   "metadata": {},
   "outputs": [
    {
     "name": "stdout",
     "output_type": "stream",
     "text": [
      "Total Bus Fare: 5500.0\n"
     ]
    }
   ],
   "source": [
    "class Vehicle:\n",
    "    def __init__(self, capacity):\n",
    "        self.capacity = capacity\n",
    "\n",
    "    def fare(self):\n",
    "        return self.capacity * 100\n",
    "\n",
    "\n",
    "class Bus(Vehicle):\n",
    "    def fare(self):\n",
    "        base_fare = super().fare()\n",
    "        maintenance_charge = base_fare * 0.10\n",
    "        total_fare = base_fare + maintenance_charge\n",
    "        return total_fare\n",
    "\n",
    "bus = Bus(50)\n",
    "print(\"Total Bus Fare:\", bus.fare())"
   ]
  },
  {
   "cell_type": "markdown",
   "metadata": {},
   "source": [
    "2. Create abstract base class \"shape\" that has abstract method \"area\".\n",
    "Inherit rectangle, triangle and square class from shape class and provide\n",
    "implementation of \"area\" method for each derived class. Finally print\n",
    "area of rectangle, triangle and square."
   ]
  },
  {
   "cell_type": "code",
   "execution_count": 2,
   "metadata": {},
   "outputs": [
    {
     "name": "stdout",
     "output_type": "stream",
     "text": [
      "Rectangle Area: 50\n",
      "Triangle Area: 16.0\n",
      "Square Area: 36\n"
     ]
    }
   ],
   "source": [
    "from abc import ABC, abstractmethod\n",
    "\n",
    "class Shape(ABC):\n",
    "    @abstractmethod\n",
    "    def area(self):\n",
    "        pass\n",
    "\n",
    "class Rectangle(Shape):\n",
    "    def __init__(self, length, width):\n",
    "        self.length = length\n",
    "        self.width = width\n",
    "\n",
    "    def area(self):\n",
    "        return self.length * self.width\n",
    "\n",
    "class Triangle(Shape):\n",
    "    def __init__(self, base, height):\n",
    "        self.base = base\n",
    "        self.height = height\n",
    "\n",
    "    def area(self):\n",
    "        return 0.5 * self.base * self.height\n",
    "\n",
    "class Square(Shape):\n",
    "    def __init__(self, side):\n",
    "        self.side = side\n",
    "\n",
    "    def area(self):\n",
    "        return self.side ** 2\n",
    "\n",
    "rectangle = Rectangle(10, 5)\n",
    "triangle = Triangle(8, 4)\n",
    "square = Square(6)\n",
    "\n",
    "print(\"Rectangle Area:\", rectangle.area())\n",
    "print(\"Triangle Area:\", triangle.area())\n",
    "print(\"Square Area:\", square.area())"
   ]
  },
  {
   "cell_type": "markdown",
   "metadata": {},
   "source": [
    "3. Write a program in which a class named Account has private member\n",
    "variables named account_no ,account_bal ,security_code. Use a public\n",
    "function to initialize the variables and print all data."
   ]
  },
  {
   "cell_type": "code",
   "execution_count": 3,
   "metadata": {},
   "outputs": [
    {
     "name": "stdout",
     "output_type": "stream",
     "text": [
      "Account Number: 123456789\n",
      "Account Balance: 15000.5\n",
      "Security Code: XYZ789\n"
     ]
    }
   ],
   "source": [
    "class Account:\n",
    "    def __init__(self):\n",
    "        self.__account_no = None\n",
    "        self.__account_bal = None\n",
    "        self.__security_code = None\n",
    "\n",
    "    def set_account_info(self, acc_no, acc_bal, sec_code):\n",
    "        self.__account_no = acc_no\n",
    "        self.__account_bal = acc_bal\n",
    "        self.__security_code = sec_code\n",
    "\n",
    "    def display_account_info(self):\n",
    "        print(\"Account Number:\", self.__account_no)\n",
    "        print(\"Account Balance:\", self.__account_bal)\n",
    "        print(\"Security Code:\", self.__security_code)\n",
    "\n",
    "\n",
    "acc = Account()\n",
    "acc.set_account_info(\"123456789\", 15000.50, \"XYZ789\")\n",
    "acc.display_account_info()"
   ]
  },
  {
   "cell_type": "markdown",
   "metadata": {},
   "source": [
    "4. A university is deciding to upgrade its system. In order to upgrade, you\n",
    "need to implement the following scenario:\n",
    "Note the following,\n",
    "• The class student has a function that displays information about the\n",
    "student i.e. id and name.\n",
    "• Class marks is derived from class student and has a function that\n",
    "displays all the marks obtained in the courses by the students. i.e.\n",
    "marks_algo, marks_dataScience, marks_calculus.\n",
    "• Class result is derived from class marks. This class has a function that\n",
    "calculates the total marks and then calculates the average marks. It\n",
    "then displays both the total and the average marks.\n",
    "In the main function you are required to do the following:\n",
    "• Create an object of the result class.\n",
    "• Then display the student details, the marks obtained in each courses\n",
    "and the total and the average marks."
   ]
  },
  {
   "cell_type": "code",
   "execution_count": 4,
   "metadata": {},
   "outputs": [
    {
     "name": "stdout",
     "output_type": "stream",
     "text": [
      "=== Student Information ===\n",
      "Student ID: EB-21103024\n",
      "Student Name: Arsal Ali\n",
      "\n",
      "=== Marks Obtained ===\n",
      "Marks in Algorithms: 70\n",
      "Marks in Data Science: 80\n",
      "Marks in Calculus: 90\n",
      "\n",
      "=== Result Summary ===\n",
      "Total Marks: 240\n",
      "Average Marks: 80.0\n"
     ]
    }
   ],
   "source": [
    "class Student:\n",
    "    def __init__(self, student_id, name):\n",
    "        self.student_id = student_id\n",
    "        self.name = name\n",
    "\n",
    "    def display_student_info(self):\n",
    "        print(\"Student ID:\", self.student_id)\n",
    "        print(\"Student Name:\", self.name)\n",
    "\n",
    "class Marks(Student):\n",
    "    def __init__(self, student_id, name, algo, data_science, calculus):\n",
    "        super().__init__(student_id, name)\n",
    "        self.marks_algo = algo\n",
    "        self.marks_data_science = data_science\n",
    "        self.marks_calculus = calculus\n",
    "\n",
    "    def display_marks(self):\n",
    "        print(\"Marks in Algorithms:\", self.marks_algo)\n",
    "        print(\"Marks in Data Science:\", self.marks_data_science)\n",
    "        print(\"Marks in Calculus:\", self.marks_calculus)\n",
    "\n",
    "class Result(Marks):\n",
    "    def __init__(self, student_id, name, algo, data_science, calculus):\n",
    "        super().__init__(student_id, name, algo, data_science, calculus)\n",
    "\n",
    "    def display_result(self):\n",
    "        total = self.marks_algo + self.marks_data_science + self.marks_calculus\n",
    "        average = total / 3\n",
    "        print(\"Total Marks:\", total)\n",
    "        print(\"Average Marks:\", round(average, 2))\n",
    "\n",
    "\n",
    "def main():\n",
    "    \n",
    "    student_result = Result(\"EB-21103024\", \"Arsal Ali\", 70, 80, 90)\n",
    "\n",
    "    print(\"=== Student Information ===\")\n",
    "    student_result.display_student_info()\n",
    "    print(\"\\n=== Marks Obtained ===\")\n",
    "    student_result.display_marks()\n",
    "    print(\"\\n=== Result Summary ===\")\n",
    "    student_result.display_result()\n",
    "\n",
    "main()"
   ]
  },
  {
   "cell_type": "markdown",
   "metadata": {},
   "source": [
    "5. You need to create a system where multiple shapes (like Circle,\n",
    "Rectangle, and Triangle) can be drawn using a common method,\n",
    "showcasing polymorphism.\n",
    "• Create a base class Shape with a method draw().\n",
    "• Create three subclasses: Circle, Rectangle, and Triangle. Each\n",
    "subclass should override the draw() method to display a unique\n",
    "message.\n",
    "• Write a function draw_shape(shape) that takes a Shape object and\n",
    "calls its draw() method.\n",
    "• Create instances of each shape and call draw_shape() on them."
   ]
  },
  {
   "cell_type": "code",
   "execution_count": 5,
   "metadata": {},
   "outputs": [
    {
     "name": "stdout",
     "output_type": "stream",
     "text": [
      "Drawing a Circle\n",
      "Drawing a Rectangle\n",
      "Drawing a Triangle\n"
     ]
    }
   ],
   "source": [
    "class Shape:\n",
    "    def draw(self):\n",
    "        print(\"Drawing a shape...\")\n",
    "\n",
    "class Circle(Shape):\n",
    "    def draw(self):\n",
    "        print(\"Drawing a Circle\")\n",
    "\n",
    "class Rectangle(Shape):\n",
    "    def draw(self):\n",
    "        print(\"Drawing a Rectangle\")\n",
    "\n",
    "class Triangle(Shape):\n",
    "    def draw(self):\n",
    "        print(\"Drawing a Triangle\")\n",
    "\n",
    "def draw_shape(shape):\n",
    "    shape.draw()\n",
    "\n",
    "circle = Circle()\n",
    "rectangle = Rectangle()\n",
    "triangle = Triangle()\n",
    "\n",
    "draw_shape(circle)\n",
    "draw_shape(rectangle)\n",
    "draw_shape(triangle)"
   ]
  },
  {
   "cell_type": "markdown",
   "metadata": {},
   "source": [
    "6. Create a class called \"Employee\" with properties \"name\" and \"salary\".\n",
    "Add a method called \"calculateBonus\" that calculates a bonus amount\n",
    "based on the employee's salary. Managers get a bonus equal to 20% of\n",
    "their salary, while developers get a bonus equal to 10% of their salary.\n",
    "Then, create two subclasses called \"Manager\" and \"Developer\" that\n",
    "inherit from the Employee class. The Manager class should have a\n",
    "method called \"hire\" that logs a message indicating that the manager is\n",
    "hiring someone, while the Developer class should have a method called\n",
    "\"writeCode\" that logs a message indicating that the developer is writing\n",
    "code. Finally, create a subclass called \"SeniorManager\" that inherits\n",
    "from the Manager class and that should have the \"calculateBonus\"\n",
    "method to give senior managers a bonus equal to 30% of their salary."
   ]
  },
  {
   "cell_type": "code",
   "execution_count": 6,
   "metadata": {},
   "outputs": [
    {
     "name": "stdout",
     "output_type": "stream",
     "text": [
      "Usman is writing code.\n",
      "Usman's bonus: PKR 8000.0\n",
      "Talal is hiring a new employee.\n",
      "Talal's bonus: PKR 20000.0\n",
      "Arsal is hiring a new employee.\n",
      "Arsal's bonus: PKR 45000.0\n"
     ]
    }
   ],
   "source": [
    "class Employee:\n",
    "    def __init__(self, name, salary):\n",
    "        self.name = name\n",
    "        self.salary = salary\n",
    "\n",
    "    def calculateBonus(self):\n",
    "        return 0\n",
    "\n",
    "\n",
    "class Manager(Employee):\n",
    "    def calculateBonus(self):\n",
    "        return self.salary * 0.20\n",
    "\n",
    "    def hire(self):\n",
    "        print(f\"{self.name} is hiring a new employee.\")\n",
    "\n",
    "class Developer(Employee):\n",
    "    def calculateBonus(self):\n",
    "        return self.salary * 0.10\n",
    "\n",
    "    def writeCode(self):\n",
    "        print(f\"{self.name} is writing code.\")\n",
    "\n",
    "class SeniorManager(Manager):\n",
    "    def calculateBonus(self):\n",
    "        return self.salary * 0.30\n",
    "\n",
    "def main():\n",
    "    dev = Developer(\"Usman\", 80000)\n",
    "    mgr = Manager(\"Talal\", 100000)\n",
    "    senior_mgr = SeniorManager(\"Arsal\", 150000)\n",
    "\n",
    "    dev.writeCode()\n",
    "    print(f\"{dev.name}'s bonus: PKR {dev.calculateBonus()}\")\n",
    "\n",
    "    mgr.hire()\n",
    "    print(f\"{mgr.name}'s bonus: PKR {mgr.calculateBonus()}\")\n",
    "\n",
    "    senior_mgr.hire()\n",
    "    print(f\"{senior_mgr.name}'s bonus: PKR {senior_mgr.calculateBonus()}\")\n",
    "\n",
    "main()"
   ]
  },
  {
   "cell_type": "markdown",
   "metadata": {},
   "source": [
    "7. You have a block of text that contains several email addresses scattered\n",
    "throughout. Write a Python script that uses regular expressions to\n",
    "extract all valid email addresses from the text."
   ]
  },
  {
   "cell_type": "code",
   "execution_count": 7,
   "metadata": {},
   "outputs": [
    {
     "name": "stdout",
     "output_type": "stream",
     "text": [
      "Extracted Email Addresses:\n",
      "support@example.com\n",
      "sales@example.co.uk\n",
      "arasl.ali@company.org\n",
      "hr@company.com\n"
     ]
    }
   ],
   "source": [
    "import re\n",
    "\n",
    "text = \"\"\"\n",
    "Hello, you can contact us at support@example.com or sales@example.co.uk.\n",
    "You can also reach out to arasl.ali@company.org or fake-email@.com (invalid).\n",
    "For HR queries, email hr@company.com. Thanks!\n",
    "\"\"\"\n",
    "\n",
    "email_pattern = r'[a-zA-Z0-9._%+-]+@[a-zA-Z0-9.-]+\\.[a-zA-Z]{2,}'\n",
    "\n",
    "emails = re.findall(email_pattern, text)\n",
    "\n",
    "print(\"Extracted Email Addresses:\")\n",
    "for email in emails:\n",
    "    print(email)"
   ]
  },
  {
   "cell_type": "markdown",
   "metadata": {},
   "source": [
    "8. You have a text document that contains dates in various formats such as\n",
    "12/09/2023, 2023-09-12, and Sep 12, 2023. Write a Python script that\n",
    "uses regular expressions to extract all dates in these formats from the\n",
    "text."
   ]
  },
  {
   "cell_type": "code",
   "execution_count": 8,
   "metadata": {},
   "outputs": [
    {
     "name": "stdout",
     "output_type": "stream",
     "text": [
      "Extracted Dates:\n",
      "12/09/2023\n",
      "2023-09-12\n",
      "Sep 12, 2023\n",
      "Oct 01, 2023\n",
      "01/01/2022\n",
      "2022-01-01\n"
     ]
    }
   ],
   "source": [
    "import re\n",
    "\n",
    "text = \"\"\"\n",
    "The report was created on 12/09/2023 and submitted by 2023-09-12. \n",
    "The next meeting is scheduled for Sep 12, 2023 and another on Oct 01, 2023.\n",
    "Older files are from 01/01/2022 and 2022-01-01.\n",
    "\"\"\"\n",
    "\n",
    "date_pattern = r'\\b\\d{2}/\\d{2}/\\d{4}\\b|\\b\\d{4}-\\d{2}-\\d{2}\\b|\\b(?:Jan|Feb|Mar|Apr|May|Jun|Jul|Aug|Sep|Oct|Nov|Dec)\\s\\d{2},\\s\\d{4}\\b'\n",
    "\n",
    "dates = re.findall(date_pattern, text)\n",
    "\n",
    "print(\"Extracted Dates:\")\n",
    "for date in dates:\n",
    "    print(date)"
   ]
  }
 ],
 "metadata": {
  "kernelspec": {
   "display_name": "Python 3",
   "language": "python",
   "name": "python3"
  },
  "language_info": {
   "codemirror_mode": {
    "name": "ipython",
    "version": 3
   },
   "file_extension": ".py",
   "mimetype": "text/x-python",
   "name": "python",
   "nbconvert_exporter": "python",
   "pygments_lexer": "ipython3",
   "version": "3.12.9"
  }
 },
 "nbformat": 4,
 "nbformat_minor": 2
}
