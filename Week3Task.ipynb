{
 "cells": [
  {
   "cell_type": "markdown",
   "metadata": {},
   "source": [
    "# Arsal Ali"
   ]
  },
  {
   "cell_type": "markdown",
   "metadata": {},
   "source": [
    "1. Write a Python program that reads a text file, counts the number of\n",
    "characters in it, and prints the total word count. Handle all possible\n",
    "exceptions as well."
   ]
  },
  {
   "cell_type": "code",
   "execution_count": 1,
   "metadata": {},
   "outputs": [
    {
     "name": "stdout",
     "output_type": "stream",
     "text": [
      "Total Characters: 2990\n",
      "Total Words: 504\n"
     ]
    }
   ],
   "source": [
    "def count_chars_words(file_path):\n",
    "    try:\n",
    "        with open(file_path, 'r', encoding='utf-8') as file:\n",
    "            content = file.read()\n",
    "            char_count = len(content)\n",
    "            word_count = len(content.split())\n",
    "            print(f\"Total Characters: {char_count}\")\n",
    "            print(f\"Total Words: {word_count}\")\n",
    "    except FileNotFoundError:\n",
    "        print(\"Error: File not found.\")\n",
    "    except PermissionError:\n",
    "        print(\"Error: Permission denied.\")\n",
    "    except Exception as e:\n",
    "        print(f\"An unexpected error occurred: {e}\")\n",
    "\n",
    "file_path = \"Eassy.txt\"\n",
    "count_chars_words(file_path)"
   ]
  },
  {
   "cell_type": "markdown",
   "metadata": {},
   "source": [
    "2. Create a program that reads a text file, searches for a specified word or\n",
    "phrase, and replaces all occurrences with another word or phrase. Write\n",
    "the modified content back to the file. Handle all possible exceptions as\n",
    "well."
   ]
  },
  {
   "cell_type": "code",
   "execution_count": 2,
   "metadata": {},
   "outputs": [
    {
     "name": "stdout",
     "output_type": "stream",
     "text": [
      "All occurrences of 'born' have been replaced with 'rose'.\n"
     ]
    }
   ],
   "source": [
    "def find_and_replace(file_path, search_word, replace_word):\n",
    "    try:\n",
    "        with open(file_path, 'r', encoding='utf-8') as file:\n",
    "            content = file.read()\n",
    "        \n",
    "        modified_content = content.replace(search_word, replace_word)\n",
    "        \n",
    "        with open(file_path, 'w', encoding='utf-8') as file:\n",
    "            file.write(modified_content)\n",
    "        \n",
    "        print(f\"All occurrences of '{search_word}' have been replaced with '{replace_word}'.\")\n",
    "    except FileNotFoundError:\n",
    "        print(\"Error: File not found.\")\n",
    "    except PermissionError:\n",
    "        print(\"Error: Permission denied.\")\n",
    "    except Exception as e:\n",
    "        print(f\"An unexpected error occurred: {e}\")\n",
    "\n",
    "file_path = \"Eassy.txt\"\n",
    "search_word = \"born\"\n",
    "replace_word = \"rose\"\n",
    "find_and_replace(file_path, search_word, replace_word)"
   ]
  },
  {
   "cell_type": "markdown",
   "metadata": {},
   "source": [
    "3. Write a python program that takes any two lists from user having same\n",
    "number of elements. Make a dictionary from these two lists in such a\n",
    "way that first element of first list will be key and first element of second\n",
    "list will be its associated value and so on. Store the dictionary in a text\n",
    "file. Handle all possible exceptions as well. Note: do not use any library.\n",
    "Make logic yourself."
   ]
  },
  {
   "cell_type": "code",
   "execution_count": 3,
   "metadata": {},
   "outputs": [
    {
     "name": "stdout",
     "output_type": "stream",
     "text": [
      "Dictionary successfully saved to file.\n"
     ]
    }
   ],
   "source": [
    "def create_dict_from_lists(file_path):\n",
    "    try:\n",
    "        list1 = input(\"Enter first list elements separated by space: \").split()\n",
    "        list2 = input(\"Enter second list elements separated by space: \").split()\n",
    "        \n",
    "        if len(list1) != len(list2):\n",
    "            print(\"Error: Lists must have the same number of elements.\")\n",
    "            return\n",
    "        \n",
    "        dictionary = {list1[i]: list2[i] for i in range(len(list1))}\n",
    "        \n",
    "        with open(file_path, \"w\", encoding=\"utf-8\") as file:\n",
    "            file.write(str(dictionary))\n",
    "        \n",
    "        print(\"Dictionary successfully saved to file.\")\n",
    "    except Exception as e:\n",
    "        print(f\"An unexpected error occurred: {e}\")\n",
    "\n",
    "file_path = \"dictionary.txt\"\n",
    "create_dict_from_lists(file_path)"
   ]
  },
  {
   "cell_type": "markdown",
   "metadata": {},
   "source": [
    "4. Take biodata of employee from user as Name, cnic number, age, and\n",
    "salary save it in txt file. Now append this file to add contact number.\n",
    "Finally read this file. Handle all possible exceptions as well."
   ]
  },
  {
   "cell_type": "code",
   "execution_count": 4,
   "metadata": {},
   "outputs": [
    {
     "name": "stdout",
     "output_type": "stream",
     "text": [
      "Biodata saved successfully.\n",
      "Contact number appended successfully.\n",
      "\n",
      "Employee Biodata:\n",
      "Name: Arsal\n",
      "CNIC: 786\n",
      "Age: 21\n",
      "Salary: 35000\n",
      "Contact: +9231\n",
      "\n"
     ]
    }
   ],
   "source": [
    "def save_biodata(file_path):\n",
    "    try:\n",
    "        name = input(\"Enter Name: \")\n",
    "        cnic = input(\"Enter CNIC Number: \")\n",
    "        age = input(\"Enter Age: \")\n",
    "        salary = input(\"Enter Salary: \")\n",
    "        \n",
    "        with open(file_path, \"w\", encoding=\"utf-8\") as file:\n",
    "            file.write(f\"Name: {name}\\nCNIC: {cnic}\\nAge: {age}\\nSalary: {salary}\\n\")\n",
    "        \n",
    "        print(\"Biodata saved successfully.\")\n",
    "    except Exception as e:\n",
    "        print(f\"An unexpected error occurred: {e}\")\n",
    "\n",
    "def append_contact(file_path):\n",
    "    try:\n",
    "        contact = input(\"Enter Contact Number: \")\n",
    "        with open(file_path, \"a\", encoding=\"utf-8\") as file:\n",
    "            file.write(f\"Contact: {contact}\\n\")\n",
    "        \n",
    "        print(\"Contact number appended successfully.\")\n",
    "    except Exception as e:\n",
    "        print(f\"An unexpected error occurred: {e}\")\n",
    "\n",
    "def read_biodata(file_path):\n",
    "    try:\n",
    "        with open(file_path, \"r\", encoding=\"utf-8\") as file:\n",
    "            print(\"\\nEmployee Biodata:\")\n",
    "            print(file.read())\n",
    "    except FileNotFoundError:\n",
    "        print(\"Error: File not found.\")\n",
    "    except Exception as e:\n",
    "        print(f\"An unexpected error occurred: {e}\")\n",
    "\n",
    "file_path = \"employee_biodata.txt\"\n",
    "save_biodata(file_path)\n",
    "append_contact(file_path)\n",
    "read_biodata(file_path)"
   ]
  },
  {
   "cell_type": "markdown",
   "metadata": {},
   "source": [
    "5. Take input from user below dictionary having name and age pair. Save\n",
    "this dictionary in json file. Now load this json file and Print name of\n",
    "person having maximum age and also print if anyone has the same age\n",
    "by making logic yourself without using any library\n",
    "\n",
    "dictionary = {'Ali':23,'Saad':24,'Salman':15,'Shams':25,'Sadiq':46,'Hammad':23'} Handle all\n",
    "possible exceptions as well."
   ]
  },
  {
   "cell_type": "code",
   "execution_count": 6,
   "metadata": {},
   "outputs": [
    {
     "name": "stdout",
     "output_type": "stream",
     "text": [
      "Dictionary saved successfully in JSON file.\n",
      "Person(s) with the maximum age (46): Sadiq\n"
     ]
    }
   ],
   "source": [
    "import json\n",
    "\n",
    "def save_dictionary(file_path):\n",
    "    try:\n",
    "        data = {}\n",
    "        n = int(input(\"Enter number of people: \"))\n",
    "        for _ in range(n):\n",
    "            name = input(\"Enter Name: \")\n",
    "            age = int(input(\"Enter Age: \"))\n",
    "            data[name] = age\n",
    "        \n",
    "        with open(file_path, \"w\", encoding=\"utf-8\") as file:\n",
    "            json.dump(data, file)\n",
    "        \n",
    "        print(\"Dictionary saved successfully in JSON file.\")\n",
    "    except ValueError:\n",
    "        print(\"Error: Invalid input. Age must be a number.\")\n",
    "    except Exception as e:\n",
    "        print(f\"An unexpected error occurred: {e}\")\n",
    "\n",
    "def find_max_age(file_path):\n",
    "    try:\n",
    "        with open(file_path, \"r\", encoding=\"utf-8\") as file:\n",
    "            data = json.load(file)\n",
    "        \n",
    "        max_age = -1\n",
    "        max_people = []\n",
    "        \n",
    "        for name, age in data.items():\n",
    "            if age > max_age:\n",
    "                max_age = age\n",
    "                max_people = [name]\n",
    "            elif age == max_age:\n",
    "                max_people.append(name)\n",
    "        \n",
    "        print(f\"Person(s) with the maximum age ({max_age}): {', '.join(max_people)}\")\n",
    "    except FileNotFoundError:\n",
    "        print(\"Error: JSON file not found.\")\n",
    "    except json.JSONDecodeError:\n",
    "        print(\"Error: Invalid JSON format.\")\n",
    "    except Exception as e:\n",
    "        print(f\"An unexpected error occurred: {e}\")\n",
    "\n",
    "file_path = \"people_data.json\"\n",
    "save_dictionary(file_path)\n",
    "find_max_age(file_path)"
   ]
  },
  {
   "cell_type": "markdown",
   "metadata": {},
   "source": [
    "6. Create a function that asks the user to enter a sentence then writes the\n",
    "sentence to a text file named \"questions.txt\" if it's a question. Handle all\n",
    "possible exceptions as well."
   ]
  },
  {
   "cell_type": "code",
   "execution_count": 7,
   "metadata": {},
   "outputs": [
    {
     "name": "stdout",
     "output_type": "stream",
     "text": [
      "This is not a question. It won't be saved.\n"
     ]
    }
   ],
   "source": [
    "def save_question(file_path=\"questions.txt\"):\n",
    "    try:\n",
    "        sentence = input(\"Enter a sentence: \")\n",
    "        if sentence.strip().endswith(\"?\"):\n",
    "            with open(file_path, \"a\", encoding=\"utf-8\") as file:\n",
    "                file.write(sentence + \"\\n\")\n",
    "            print(\"Question saved successfully.\")\n",
    "        else:\n",
    "            print(\"This is not a question. It won't be saved.\")\n",
    "    except Exception as e:\n",
    "        print(f\"An unexpected error occurred: {e}\")\n",
    "\n",
    "save_question()"
   ]
  },
  {
   "cell_type": "markdown",
   "metadata": {},
   "source": [
    "7. You need to read \"replacement_needed.txt\" file. This file has one\n",
    "mistake. One letter needs to be replaced with other letter then this\n",
    "sentence might have some meaning. Replace this letter with the desired\n",
    "one making logic yourself without using any library. Write your code in\n",
    "function and call that function. Handle all possible exceptions as well."
   ]
  },
  {
   "cell_type": "code",
   "execution_count": 11,
   "metadata": {},
   "outputs": [
    {
     "name": "stdout",
     "output_type": "stream",
     "text": [
      "All occurrences of 'died' have been replaced with 'born'.\n"
     ]
    }
   ],
   "source": [
    "def replace_letter(file_path, old_letter, new_letter):\n",
    "    try:\n",
    "        with open(file_path, \"r\", encoding=\"utf-8\") as file:\n",
    "            content = file.read()\n",
    "        \n",
    "        modified_content = \"\".join([new_letter if char == old_letter else char for char in content])\n",
    "        \n",
    "        with open(file_path, \"w\", encoding=\"utf-8\") as file:\n",
    "            file.write(modified_content)\n",
    "        \n",
    "        print(f\"All occurrences of '{old_letter}' have been replaced with '{new_letter}'.\")\n",
    "    except FileNotFoundError:\n",
    "        print(\"Error: File not found.\")\n",
    "    except PermissionError:\n",
    "        print(\"Error: Permission denied.\")\n",
    "    except Exception as e:\n",
    "        print(f\"An unexpected error occurred: {e}\")\n",
    "\n",
    "file_path = \"replacement_needed.txt\"\n",
    "old_letter = input(\"Enter the letter to be replaced: \")\n",
    "new_letter = input(\"Enter the new letter: \")\n",
    "replace_letter(file_path, old_letter, new_letter)"
   ]
  },
  {
   "cell_type": "markdown",
   "metadata": {},
   "source": [
    "8. Take two integer numbers from user as input. Divide these two numbers.\n",
    "If one number is being divided by zero (another number) then handle\n",
    "ZeroDivisionError and if entered value is wrong (for example, a string)\n",
    "then handle ValueError."
   ]
  },
  {
   "cell_type": "code",
   "execution_count": 10,
   "metadata": {},
   "outputs": [
    {
     "name": "stdout",
     "output_type": "stream",
     "text": [
      "Result: 6.086956521739131\n"
     ]
    }
   ],
   "source": [
    "def safe_division():\n",
    "    try:\n",
    "        num1 = int(input(\"Enter first number: \"))\n",
    "        num2 = int(input(\"Enter second number: \"))\n",
    "        result = num1 / num2\n",
    "        print(f\"Result: {result}\")\n",
    "    except ZeroDivisionError:\n",
    "        print(\"Error: Division by zero is not allowed.\")\n",
    "    except ValueError:\n",
    "        print(\"Error: Invalid input. Please enter integers only.\")\n",
    "    except Exception as e:\n",
    "        print(f\"An unexpected error occurred: {e}\")\n",
    "\n",
    "safe_division()"
   ]
  }
 ],
 "metadata": {
  "kernelspec": {
   "display_name": "Python 3",
   "language": "python",
   "name": "python3"
  },
  "language_info": {
   "codemirror_mode": {
    "name": "ipython",
    "version": 3
   },
   "file_extension": ".py",
   "mimetype": "text/x-python",
   "name": "python",
   "nbconvert_exporter": "python",
   "pygments_lexer": "ipython3",
   "version": "3.12.9"
  }
 },
 "nbformat": 4,
 "nbformat_minor": 2
}
