{
 "cells": [
  {
   "cell_type": "markdown",
   "metadata": {},
   "source": [
    "# Arsal Ali"
   ]
  },
  {
   "cell_type": "markdown",
   "metadata": {},
   "source": [
    "### 1. Calculate the body mass index (BMI) of two variables input by the user.\n",
    "### BMI Calculation Formula = weight/ (height)^2."
   ]
  },
  {
   "cell_type": "code",
   "execution_count": null,
   "metadata": {},
   "outputs": [
    {
     "ename": "",
     "evalue": "",
     "output_type": "error",
     "traceback": [
      "\u001b[1;31mThe kernel failed to start as the Python Environment 'Python' is no longer available. Consider selecting another kernel or refreshing the list of Python Environments."
     ]
    }
   ],
   "source": [
    "weight = int(input(\"Enter your weight in KG: \"))\n",
    "height = float(input(\"Enter your height in meters: \"))\n",
    "bmi = weight / (height ** 2)\n",
    "print(f'Your BMI is: {bmi:.2f} with a weight of {weight} KG and a height of {height} meters')"
   ]
  },
  {
   "cell_type": "markdown",
   "metadata": {},
   "source": [
    "### 2. Write a program to make a simple console based calculator performing the four basic operations (+, -, *, /) on two numbers input by user.\n",
    "### Your program should ask the user which operation he/she wants to perform and gives the output accordingly."
   ]
  },
  {
   "cell_type": "code",
   "execution_count": null,
   "metadata": {},
   "outputs": [],
   "source": [
    "num1 = int(input(\"Enter a number: \"))\n",
    "num2 = int(input(\"Enter another number: \"))\n",
    "operation = input(\"Enter an operation (+, -, *, /): \")\n",
    "if operation == '+':\n",
    "    print(f'The sum of {num1} and {num2} is {(num1 + num2):.2f}')\n",
    "elif operation == '-':\n",
    "    print(f'The difference of {num1} and {num2} is {(num1 - num2):.2f}')\n",
    "elif operation == '*':\n",
    "    print(f'The product of {num1} and {num2} is {(num1 * num2):.2f}')\n",
    "elif operation == '/':\n",
    "    print(f'The division of {num1} and {num2} is {(num1 / num2):.2f}')\n",
    "else:\n",
    "    print(\"Invalid operation\")"
   ]
  },
  {
   "cell_type": "markdown",
   "metadata": {},
   "source": [
    "### 3. Write a program to count all the even numbers in that given list and print the count.\n",
    "### List = [2,4,6,5,3,8,2,6,6,4]"
   ]
  },
  {
   "cell_type": "code",
   "execution_count": null,
   "metadata": {},
   "outputs": [],
   "source": [
    "list = [2,4,6,5,3,8,2,6,6,4]\n",
    "even = 0\n",
    "for i in list:\n",
    "    if i % 2 == 0:\n",
    "        even += 1\n",
    "print(f'There are {even} even numbers in the list.')"
   ]
  },
  {
   "cell_type": "markdown",
   "metadata": {},
   "source": [
    "### 4. Write a program that returns the sum of all the elements in the given list of task 3."
   ]
  },
  {
   "cell_type": "code",
   "execution_count": null,
   "metadata": {},
   "outputs": [],
   "source": [
    "list = [2,4,6,5,3,8,2,6,6,4]\n",
    "sum = 0\n",
    "for i in list:\n",
    "    sum += i\n",
    "print(f'The sum of the list is {sum}')"
   ]
  },
  {
   "cell_type": "markdown",
   "metadata": {},
   "source": [
    "### 5. Write a program that should delete all elements in the list less than 4. Use the list given in task 3."
   ]
  },
  {
   "cell_type": "code",
   "execution_count": null,
   "metadata": {},
   "outputs": [],
   "source": [
    "list = [2, 4, 6, 5, 3, 8, 2, 6, 6, 4]\n",
    "\n",
    "for num in list[:]:\n",
    "    if num < 4:\n",
    "        list.remove(num)\n",
    "\n",
    "print(\"Updated list:\", list)"
   ]
  },
  {
   "cell_type": "markdown",
   "metadata": {},
   "source": [
    "### 6. Write a program to take marks of 3 subjects as input by user and store them in a dictionary having appropriate keys.\n",
    "### Using that dictionary calculate average and percentage of those marks."
   ]
  },
  {
   "cell_type": "code",
   "execution_count": null,
   "metadata": {},
   "outputs": [],
   "source": [
    "dict = {\n",
    "    \"Subject 1\": int(input(\"Enter marks for Subject 1: \")),\n",
    "    \"Subject 2\": int(input(\"Enter marks for Subject 2: \")),\n",
    "    \"Subject 3\": int(input(\"Enter marks for Subject 3: \"))\n",
    "}\n",
    "\n",
    "total_marks = sum(dict.values())\n",
    "average_marks = total_marks / len(dict)\n",
    "percentage = (total_marks / (len(dict) * 100)) * 100\n",
    "\n",
    "print(\"Marks Dictionary:\", dict)\n",
    "print(\"Average Marks:\", average_marks)\n",
    "print(\"Percentage:\", percentage, \"%\")"
   ]
  },
  {
   "cell_type": "markdown",
   "metadata": {},
   "source": [
    "### 7. Write a Python program to get the largest number from a list input from user. Use the list given in task 3."
   ]
  },
  {
   "cell_type": "code",
   "execution_count": null,
   "metadata": {},
   "outputs": [],
   "source": [
    "list = [2,4,6,5,3,8,2,6,6,4]\n",
    "max = 0\n",
    "for i in list:\n",
    "    if i > max:\n",
    "        max = i\n",
    "\n",
    "print(f'The largest number in the list is {max}')"
   ]
  },
  {
   "cell_type": "markdown",
   "metadata": {},
   "source": [
    "### 8. Write a python program that take 10 inputs from the user using loop and append the every user input value in the list and calculate the sum of all numbers."
   ]
  },
  {
   "cell_type": "code",
   "execution_count": null,
   "metadata": {},
   "outputs": [],
   "source": [
    "numbers = []\n",
    "\n",
    "for i in range(10):\n",
    "    num = int(input(f\"Enter number {i + 1}: \"))\n",
    "    numbers.append(num)\n",
    "\n",
    "sum = 0\n",
    "for i in numbers:\n",
    "    j += i\n",
    "\n",
    "print(\"List of numbers:\", numbers)\n",
    "print(\"Sum of all numbers:\", sum)"
   ]
  },
  {
   "cell_type": "markdown",
   "metadata": {},
   "source": [
    "### 9. Write a python program that take 5 subjects marks from the user and then check the condition if input marks > 100 then show the output \" Invalid Input\", if input marks >= 50 but <= 100 then show \" Pass\" otherwise show \"Fail\"."
   ]
  },
  {
   "cell_type": "code",
   "execution_count": null,
   "metadata": {},
   "outputs": [],
   "source": [
    "sub1 = int(input(\"Enter marks for subject 1: \"))\n",
    "sub2 = int(input(\"Enter marks for subject 2: \"))\n",
    "sub3 = int(input(\"Enter marks for subject 3: \"))\n",
    "sub4 = int(input(\"Enter marks for subject 4: \"))\n",
    "sub5 = int(input(\"Enter marks for subject 5: \"))\n",
    "\n",
    "def check_result(marks):\n",
    "    if marks > 100 or marks < 0:\n",
    "        return \"Invalid Input\"\n",
    "    elif marks >= 50:\n",
    "        return \"Pass\"\n",
    "    else:\n",
    "        return \"Fail\"\n",
    "\n",
    "print(\"Subject 1:\", check_result(sub1))\n",
    "print(\"Subject 2:\", check_result(sub2))\n",
    "print(\"Subject 3:\", check_result(sub3))\n",
    "print(\"Subject 4:\", check_result(sub4))\n",
    "print(\"Subject 5:\", check_result(sub5))"
   ]
  },
  {
   "cell_type": "markdown",
   "metadata": {},
   "source": [
    "### 10. Write a Python program to create the multiplication table (from 1 to 10) of a number."
   ]
  },
  {
   "cell_type": "code",
   "execution_count": null,
   "metadata": {},
   "outputs": [],
   "source": [
    "num = int(input(\"Enter a number: \"))\n",
    "\n",
    "print(f\"Multiplication Table of {num}:\")\n",
    "for i in range(1, 11):\n",
    "    print(f\"{num} x {i} = {num * i}\")"
   ]
  }
 ],
 "metadata": {
  "kernelspec": {
   "display_name": "Python 3",
   "language": "python",
   "name": "python3"
  },
  "language_info": {
   "codemirror_mode": {
    "name": "ipython",
    "version": 3
   },
   "file_extension": ".py",
   "mimetype": "text/x-python",
   "name": "python",
   "nbconvert_exporter": "python",
   "pygments_lexer": "ipython3",
   "version": "3.13.0"
  }
 },
 "nbformat": 4,
 "nbformat_minor": 2
}
